{
  "nbformat": 4,
  "nbformat_minor": 0,
  "metadata": {
    "colab": {
      "provenance": []
    },
    "kernelspec": {
      "name": "python3",
      "display_name": "Python 3"
    },
    "language_info": {
      "name": "python"
    }
  },
  "cells": [
    {
      "cell_type": "markdown",
      "source": [
        "Keras provides some utility functions to fetch and load common datasets, including **MNIST**, Fashion **MNIST**, and a few more. Let’s load Fashion MNIST . It’s already shuffled and split into a training set (60,000 images) and a test set (10,000 images), but we’ll hold out the last 5,000 images from the\n",
        "training set for validation"
      ],
      "metadata": {
        "id": "B4maKFd4_W2F"
      }
    },
    {
      "cell_type": "code",
      "source": [
        "import matplotlib.pyplot as plt\n",
        "import pandas as pd\n",
        "import tensorflow as tf\n",
        "import numpy as np\n",
        "\n"
      ],
      "metadata": {
        "id": "CpO3x84T_Y7c"
      },
      "execution_count": 1,
      "outputs": []
    },
    {
      "cell_type": "code",
      "source": [
        "fashion_mnist = tf.keras.datasets.fashion_mnist.load_data()\n",
        "(X_train_full, y_train_full), (X_test, y_test) = fashion_mnist\n",
        "X_train, y_train = X_train_full[:-5000], y_train_full[:-5000]\n",
        "X_valid, y_valid = X_train_full[-5000:], y_train_full[-5000:]"
      ],
      "metadata": {
        "id": "kmyPRFxw-lOF"
      },
      "execution_count": 2,
      "outputs": []
    },
    {
      "cell_type": "markdown",
      "source": [
        "When loading MNIST or Fashion MNIST using Keras rather\n",
        "than Scikit-Learn, one important difference is that every\n",
        "image is represented as a 28 × 28 array rather than a 1D\n",
        "array of size 784. Moreover, the pixel intensities are\n",
        "represented as integers (from 0 to 255) rather than floats\n",
        "(from 0.0 to 255.0). Let’s take a look at the shape and data\n",
        "type of the training set"
      ],
      "metadata": {
        "id": "VPypOorXAfmh"
      }
    },
    {
      "cell_type": "code",
      "source": [
        "X_train.shape"
      ],
      "metadata": {
        "colab": {
          "base_uri": "https://localhost:8080/"
        },
        "id": "uasN5Han-lXW",
        "outputId": "20186809-601c-498d-c19f-8071dc6b5eb5"
      },
      "execution_count": 3,
      "outputs": [
        {
          "output_type": "execute_result",
          "data": {
            "text/plain": [
              "(55000, 28, 28)"
            ]
          },
          "metadata": {},
          "execution_count": 3
        }
      ]
    },
    {
      "cell_type": "code",
      "source": [
        "X_train.dtype"
      ],
      "metadata": {
        "colab": {
          "base_uri": "https://localhost:8080/"
        },
        "id": "G2s83BEq-leO",
        "outputId": "6b868072-7613-4740-bacb-153fd5714c95"
      },
      "execution_count": 4,
      "outputs": [
        {
          "output_type": "execute_result",
          "data": {
            "text/plain": [
              "dtype('uint8')"
            ]
          },
          "metadata": {},
          "execution_count": 4
        }
      ]
    },
    {
      "cell_type": "markdown",
      "source": [
        "For simplicity, we’ll scale the pixel intensities down to the 0–1 range by dividing them by 255.0 (this also converts them to floats)"
      ],
      "metadata": {
        "id": "07vI2vw2A2LB"
      }
    },
    {
      "cell_type": "code",
      "source": [
        "X_train, X_valid, X_test = X_train / 255., X_valid / 255., X_test / 255."
      ],
      "metadata": {
        "id": "J50SV9at_E-b"
      },
      "execution_count": 5,
      "outputs": []
    },
    {
      "cell_type": "markdown",
      "source": [
        "With MNIST, when the label is equal to 5, it means that the image represents the handwritten digit 5. Easy. For Fashion MNIST, however, we need the list of class names to know what we are dealing with:"
      ],
      "metadata": {
        "id": "TdK8BBkmCcbb"
      }
    },
    {
      "cell_type": "code",
      "source": [
        "class_names = [\"T-shirt/top\", \"Trouser\", \"Pullover\", \"Dress\", \"Coat\",\n",
        "\"Sandal\", \"Shirt\", \"Sneaker\", \"Bag\", \"Ankle boot\"]"
      ],
      "metadata": {
        "id": "Ksy--tQd_IE-"
      },
      "execution_count": 6,
      "outputs": []
    },
    {
      "cell_type": "code",
      "source": [
        "class_names[y_train[0]]"
      ],
      "metadata": {
        "colab": {
          "base_uri": "https://localhost:8080/",
          "height": 35
        },
        "id": "G82-8m3A_L06",
        "outputId": "375034fa-562d-4754-a0a5-778f42245125"
      },
      "execution_count": 7,
      "outputs": [
        {
          "output_type": "execute_result",
          "data": {
            "text/plain": [
              "'Ankle boot'"
            ],
            "application/vnd.google.colaboratory.intrinsic+json": {
              "type": "string"
            }
          },
          "metadata": {},
          "execution_count": 7
        }
      ]
    },
    {
      "cell_type": "code",
      "source": [
        "from IPython.display import HTML\n",
        "HTML('<img src=\"https://www.researchgate.net/publication/342801790/figure/fig2/AS:911232181735425@1594266090934/Sample-images-from-Fashion-MNIST-dataset.png\">')"
      ],
      "metadata": {
        "colab": {
          "base_uri": "https://localhost:8080/",
          "height": 462
        },
        "id": "VyKVlcof_Og_",
        "outputId": "09b83151-cd77-47bc-88b4-24d71f643eed"
      },
      "execution_count": 8,
      "outputs": [
        {
          "output_type": "execute_result",
          "data": {
            "text/plain": [
              "<IPython.core.display.HTML object>"
            ],
            "text/html": [
              "<img src=\"https://www.researchgate.net/publication/342801790/figure/fig2/AS:911232181735425@1594266090934/Sample-images-from-Fashion-MNIST-dataset.png\">"
            ]
          },
          "metadata": {},
          "execution_count": 8
        }
      ]
    },
    {
      "cell_type": "markdown",
      "source": [
        "Instead of adding the layers one by one as we just did, it’s\n",
        "often more convenient to pass a list of layers when creating\n",
        "the Sequential model. You can also drop the Input layer and\n",
        "instead specify the input_shape in the first lay"
      ],
      "metadata": {
        "id": "5op6H-4gEIo2"
      }
    },
    {
      "cell_type": "code",
      "source": [
        "model = tf.keras.Sequential([\n",
        "tf.keras.layers.Flatten(input_shape=[28, 28]),\n",
        "tf.keras.layers.Dense(300, activation=\"relu\"),\n",
        "tf.keras.layers.Dense(100, activation=\"relu\"),\n",
        "tf.keras.layers.Dense(10, activation=\"softmax\")\n",
        "])"
      ],
      "metadata": {
        "id": "mI39yatpDK0h"
      },
      "execution_count": 9,
      "outputs": []
    },
    {
      "cell_type": "code",
      "source": [
        "model.summary()"
      ],
      "metadata": {
        "colab": {
          "base_uri": "https://localhost:8080/"
        },
        "id": "WC19EI49ERo3",
        "outputId": "e127fa56-24ef-465b-857c-8b250203f5d4"
      },
      "execution_count": 10,
      "outputs": [
        {
          "output_type": "stream",
          "name": "stdout",
          "text": [
            "Model: \"sequential\"\n",
            "_________________________________________________________________\n",
            " Layer (type)                Output Shape              Param #   \n",
            "=================================================================\n",
            " flatten (Flatten)           (None, 784)               0         \n",
            "                                                                 \n",
            " dense (Dense)               (None, 300)               235500    \n",
            "                                                                 \n",
            " dense_1 (Dense)             (None, 100)               30100     \n",
            "                                                                 \n",
            " dense_2 (Dense)             (None, 10)                1010      \n",
            "                                                                 \n",
            "=================================================================\n",
            "Total params: 266610 (1.02 MB)\n",
            "Trainable params: 266610 (1.02 MB)\n",
            "Non-trainable params: 0 (0.00 Byte)\n",
            "_________________________________________________________________\n"
          ]
        }
      ]
    },
    {
      "cell_type": "code",
      "source": [
        "model.layers\n",
        "hidden1 = model.layers[1]\n",
        "hidden1.name"
      ],
      "metadata": {
        "colab": {
          "base_uri": "https://localhost:8080/",
          "height": 35
        },
        "id": "nzCqJ6ugEWUF",
        "outputId": "eaf52d6f-35ef-4881-dbe1-18a0913eebba"
      },
      "execution_count": 11,
      "outputs": [
        {
          "output_type": "execute_result",
          "data": {
            "text/plain": [
              "'dense'"
            ],
            "application/vnd.google.colaboratory.intrinsic+json": {
              "type": "string"
            }
          },
          "metadata": {},
          "execution_count": 11
        }
      ]
    },
    {
      "cell_type": "code",
      "source": [
        "weights, biases = hidden1.get_weights()\n",
        "weights.shape"
      ],
      "metadata": {
        "colab": {
          "base_uri": "https://localhost:8080/"
        },
        "id": "VknkIZ1TEmUp",
        "outputId": "a0b8255c-c6a4-44f4-c08d-83cdc1b4bdaa"
      },
      "execution_count": 12,
      "outputs": [
        {
          "output_type": "execute_result",
          "data": {
            "text/plain": [
              "(784, 300)"
            ]
          },
          "metadata": {},
          "execution_count": 12
        }
      ]
    },
    {
      "cell_type": "markdown",
      "source": [
        "## **Compiling the model**"
      ],
      "metadata": {
        "id": "nmWsRiUgFCVn"
      }
    },
    {
      "cell_type": "code",
      "source": [
        "model.compile(loss=\"sparse_categorical_crossentropy\",\n",
        "optimizer=\"sgd\",\n",
        "metrics=[\"accuracy\"])"
      ],
      "metadata": {
        "id": "JIx8oCFCEtsZ"
      },
      "execution_count": 13,
      "outputs": []
    },
    {
      "cell_type": "markdown",
      "source": [
        "### **Training and evaluating the model**"
      ],
      "metadata": {
        "id": "_P2WSmrdFQqb"
      }
    },
    {
      "cell_type": "code",
      "source": [
        "history = model.fit(X_train, y_train, epochs=30,validation_data=(X_valid, y_valid))"
      ],
      "metadata": {
        "colab": {
          "base_uri": "https://localhost:8080/"
        },
        "id": "Yxg_0tPsFMwF",
        "outputId": "3da71bbf-b601-4c1d-b526-45cc31731a8d"
      },
      "execution_count": 14,
      "outputs": [
        {
          "output_type": "stream",
          "name": "stdout",
          "text": [
            "Epoch 1/30\n",
            "1719/1719 [==============================] - 20s 11ms/step - loss: 0.7239 - accuracy: 0.7626 - val_loss: 0.5130 - val_accuracy: 0.8228\n",
            "Epoch 2/30\n",
            "1719/1719 [==============================] - 8s 5ms/step - loss: 0.4893 - accuracy: 0.8300 - val_loss: 0.4641 - val_accuracy: 0.8372\n",
            "Epoch 3/30\n",
            "1719/1719 [==============================] - 9s 5ms/step - loss: 0.4435 - accuracy: 0.8463 - val_loss: 0.4375 - val_accuracy: 0.8412\n",
            "Epoch 4/30\n",
            "1719/1719 [==============================] - 9s 5ms/step - loss: 0.4157 - accuracy: 0.8546 - val_loss: 0.4131 - val_accuracy: 0.8544\n",
            "Epoch 5/30\n",
            "1719/1719 [==============================] - 8s 4ms/step - loss: 0.3958 - accuracy: 0.8620 - val_loss: 0.3797 - val_accuracy: 0.8586\n",
            "Epoch 6/30\n",
            "1719/1719 [==============================] - 9s 5ms/step - loss: 0.3792 - accuracy: 0.8678 - val_loss: 0.3954 - val_accuracy: 0.8578\n",
            "Epoch 7/30\n",
            "1719/1719 [==============================] - 9s 5ms/step - loss: 0.3666 - accuracy: 0.8718 - val_loss: 0.3862 - val_accuracy: 0.8626\n",
            "Epoch 8/30\n",
            "1719/1719 [==============================] - 8s 5ms/step - loss: 0.3538 - accuracy: 0.8748 - val_loss: 0.3714 - val_accuracy: 0.8646\n",
            "Epoch 9/30\n",
            "1719/1719 [==============================] - 9s 5ms/step - loss: 0.3438 - accuracy: 0.8779 - val_loss: 0.3552 - val_accuracy: 0.8714\n",
            "Epoch 10/30\n",
            "1719/1719 [==============================] - 9s 5ms/step - loss: 0.3345 - accuracy: 0.8819 - val_loss: 0.3603 - val_accuracy: 0.8700\n",
            "Epoch 11/30\n",
            "1719/1719 [==============================] - 8s 4ms/step - loss: 0.3253 - accuracy: 0.8847 - val_loss: 0.3487 - val_accuracy: 0.8756\n",
            "Epoch 12/30\n",
            "1719/1719 [==============================] - 9s 5ms/step - loss: 0.3177 - accuracy: 0.8874 - val_loss: 0.3368 - val_accuracy: 0.8812\n",
            "Epoch 13/30\n",
            "1719/1719 [==============================] - 9s 5ms/step - loss: 0.3099 - accuracy: 0.8892 - val_loss: 0.3347 - val_accuracy: 0.8768\n",
            "Epoch 14/30\n",
            "1719/1719 [==============================] - 8s 5ms/step - loss: 0.3034 - accuracy: 0.8912 - val_loss: 0.3310 - val_accuracy: 0.8800\n",
            "Epoch 15/30\n",
            "1719/1719 [==============================] - 8s 5ms/step - loss: 0.2968 - accuracy: 0.8939 - val_loss: 0.3355 - val_accuracy: 0.8796\n",
            "Epoch 16/30\n",
            "1719/1719 [==============================] - 9s 5ms/step - loss: 0.2899 - accuracy: 0.8962 - val_loss: 0.3312 - val_accuracy: 0.8768\n",
            "Epoch 17/30\n",
            "1719/1719 [==============================] - 9s 5ms/step - loss: 0.2848 - accuracy: 0.8979 - val_loss: 0.3315 - val_accuracy: 0.8808\n",
            "Epoch 18/30\n",
            "1719/1719 [==============================] - 8s 5ms/step - loss: 0.2799 - accuracy: 0.9004 - val_loss: 0.3319 - val_accuracy: 0.8808\n",
            "Epoch 19/30\n",
            "1719/1719 [==============================] - 9s 5ms/step - loss: 0.2742 - accuracy: 0.9007 - val_loss: 0.3288 - val_accuracy: 0.8812\n",
            "Epoch 20/30\n",
            "1719/1719 [==============================] - 9s 5ms/step - loss: 0.2688 - accuracy: 0.9036 - val_loss: 0.3297 - val_accuracy: 0.8802\n",
            "Epoch 21/30\n",
            "1719/1719 [==============================] - 8s 5ms/step - loss: 0.2638 - accuracy: 0.9045 - val_loss: 0.3246 - val_accuracy: 0.8826\n",
            "Epoch 22/30\n",
            "1719/1719 [==============================] - 9s 5ms/step - loss: 0.2594 - accuracy: 0.9055 - val_loss: 0.3141 - val_accuracy: 0.8842\n",
            "Epoch 23/30\n",
            "1719/1719 [==============================] - 9s 5ms/step - loss: 0.2540 - accuracy: 0.9095 - val_loss: 0.3190 - val_accuracy: 0.8804\n",
            "Epoch 24/30\n",
            "1719/1719 [==============================] - 8s 4ms/step - loss: 0.2504 - accuracy: 0.9096 - val_loss: 0.3154 - val_accuracy: 0.8848\n",
            "Epoch 25/30\n",
            "1719/1719 [==============================] - 9s 5ms/step - loss: 0.2466 - accuracy: 0.9109 - val_loss: 0.3195 - val_accuracy: 0.8852\n",
            "Epoch 26/30\n",
            "1719/1719 [==============================] - 9s 5ms/step - loss: 0.2421 - accuracy: 0.9126 - val_loss: 0.3178 - val_accuracy: 0.8842\n",
            "Epoch 27/30\n",
            "1719/1719 [==============================] - 8s 5ms/step - loss: 0.2389 - accuracy: 0.9134 - val_loss: 0.3389 - val_accuracy: 0.8764\n",
            "Epoch 28/30\n",
            "1719/1719 [==============================] - 9s 5ms/step - loss: 0.2347 - accuracy: 0.9151 - val_loss: 0.3196 - val_accuracy: 0.8868\n",
            "Epoch 29/30\n",
            "1719/1719 [==============================] - 9s 5ms/step - loss: 0.2307 - accuracy: 0.9173 - val_loss: 0.3162 - val_accuracy: 0.8846\n",
            "Epoch 30/30\n",
            "1719/1719 [==============================] - 8s 5ms/step - loss: 0.2264 - accuracy: 0.9190 - val_loss: 0.3095 - val_accuracy: 0.8898\n"
          ]
        }
      ]
    },
    {
      "cell_type": "code",
      "source": [
        "pd.DataFrame(history.history).plot(\n",
        "figsize=(8, 5), xlim=[0, 29], ylim=[0, 1], grid=True, xlabel=\"Epoch\",\n",
        "style=[\"r--\", \"r--.\", \"b-\", \"b-*\"])\n",
        "plt.show()"
      ],
      "metadata": {
        "colab": {
          "base_uri": "https://localhost:8080/",
          "height": 470
        },
        "id": "lH3fLWlgFa8m",
        "outputId": "fda3b075-5f47-425b-8771-558ddb7fc731"
      },
      "execution_count": 15,
      "outputs": [
        {
          "output_type": "display_data",
          "data": {
            "text/plain": [
              "<Figure size 800x500 with 1 Axes>"
            ],
            "image/png": "[encoded data removed]"
          },
          "metadata": {}
        }
      ]
    },
    {
      "cell_type": "code",
      "source": [
        "model.evaluate(X_test, y_test)"
      ],
      "metadata": {
        "colab": {
          "base_uri": "https://localhost:8080/"
        },
        "id": "sbgE_VHrF14a",
        "outputId": "98c1c2a0-b632-4bef-d139-c6b89a8830ab"
      },
      "execution_count": 16,
      "outputs": [
        {
          "output_type": "stream",
          "name": "stdout",
          "text": [
            "313/313 [==============================] - 1s 3ms/step - loss: 0.3238 - accuracy: 0.8851\n"
          ]
        },
        {
          "output_type": "execute_result",
          "data": {
            "text/plain": [
              "[0.3237721621990204, 0.8851000070571899]"
            ]
          },
          "metadata": {},
          "execution_count": 16
        }
      ]
    },
    {
      "cell_type": "markdown",
      "source": [
        "## **Using the model to make predictions**"
      ],
      "metadata": {
        "id": "mXgNcqC7hYo_"
      }
    },
    {
      "cell_type": "code",
      "source": [
        "X_new = X_test[:3]\n",
        "y_proba = model.predict(X_new)\n",
        "y_pred = y_proba.argmax(axis=-1)\n",
        "np.array(class_names)[y_pred]\n"
      ],
      "metadata": {
        "colab": {
          "base_uri": "https://localhost:8080/"
        },
        "id": "fIEaNiFfhP0H",
        "outputId": "920d2b45-1ca7-4fae-a944-01b100ef2521"
      },
      "execution_count": 17,
      "outputs": [
        {
          "output_type": "stream",
          "name": "stdout",
          "text": [
            "1/1 [==============================] - 0s 148ms/step\n"
          ]
        },
        {
          "output_type": "execute_result",
          "data": {
            "text/plain": [
              "array(['Ankle boot', 'Pullover', 'Trouser'], dtype='<U11')"
            ]
          },
          "metadata": {},
          "execution_count": 17
        }
      ]
    },
    {
      "cell_type": "code",
      "source": [
        "y_new = y_test[:3]\n",
        "y_new"
      ],
      "metadata": {
        "colab": {
          "base_uri": "https://localhost:8080/"
        },
        "id": "eohtyCbehkMQ",
        "outputId": "5a633a45-ec90-4e45-8ed8-a1b8a32e2710"
      },
      "execution_count": 18,
      "outputs": [
        {
          "output_type": "execute_result",
          "data": {
            "text/plain": [
              "array([9, 2, 1], dtype=uint8)"
            ]
          },
          "metadata": {},
          "execution_count": 18
        }
      ]
    },
    {
      "cell_type": "markdown",
      "source": [
        "## **Building a Regression MLP Using the Sequential API**"
      ],
      "metadata": {
        "id": "6NeyUJ-ejm8i"
      }
    },
    {
      "cell_type": "code",
      "source": [
        "tf.random.set_seed(42)\n",
        "norm_layer = tf.keras.layers.Normalization(input_shape=X_train.shape[1:])\n",
        "model = tf.keras.Sequential([\n",
        "norm_layer,\n",
        "tf.keras.layers.Dense(50, activation=\"relu\"),\n",
        "tf.keras.layers.Dense(50, activation=\"relu\"),\n",
        "tf.keras.layers.Dense(50, activation=\"relu\"),\n",
        "tf.keras.layers.Dense(1)\n",
        "])\n",
        "optimizer = tf.keras.optimizers.Adam(learning_rate=1e-3)\n",
        "model.compile(loss=\"mse\", optimizer=optimizer, metrics=\n",
        "[\"RootMeanSquaredError\"])\n",
        "norm_layer.adapt(X_train)\n"
      ],
      "metadata": {
        "id": "kYShbvofh_1b"
      },
      "execution_count": 19,
      "outputs": []
    },
    {
      "cell_type": "code",
      "source": [
        "history = model.fit(X_train, y_train, epochs=20,\n",
        "validation_data=(X_valid, y_valid))"
      ],
      "metadata": {
        "colab": {
          "base_uri": "https://localhost:8080/"
        },
        "id": "43N4wfSMjuzi",
        "outputId": "436084cf-e3d8-49b7-e04a-b89e097657fb"
      },
      "execution_count": 20,
      "outputs": [
        {
          "output_type": "stream",
          "name": "stdout",
          "text": [
            "Epoch 1/20\n",
            "1719/1719 [==============================] - 12s 6ms/step - loss: 8.6430 - root_mean_squared_error: 2.9399 - val_loss: 8.4277 - val_root_mean_squared_error: 2.9032\n",
            "Epoch 2/20\n",
            "1719/1719 [==============================] - 9s 5ms/step - loss: 8.3102 - root_mean_squared_error: 2.8827 - val_loss: 8.3966 - val_root_mean_squared_error: 2.8979\n",
            "Epoch 3/20\n",
            "1719/1719 [==============================] - 10s 6ms/step - loss: 8.2902 - root_mean_squared_error: 2.8793 - val_loss: 8.3984 - val_root_mean_squared_error: 2.8981\n",
            "Epoch 4/20\n",
            "1719/1719 [==============================] - 10s 6ms/step - loss: 8.2818 - root_mean_squared_error: 2.8778 - val_loss: 8.4529 - val_root_mean_squared_error: 2.9075\n",
            "Epoch 5/20\n",
            "1719/1719 [==============================] - 10s 6ms/step - loss: 8.2735 - root_mean_squared_error: 2.8764 - val_loss: 8.3930 - val_root_mean_squared_error: 2.8973\n",
            "Epoch 6/20\n",
            "1719/1719 [==============================] - 10s 6ms/step - loss: 8.2633 - root_mean_squared_error: 2.8746 - val_loss: 8.3682 - val_root_mean_squared_error: 2.8930\n",
            "Epoch 7/20\n",
            "1719/1719 [==============================] - 9s 5ms/step - loss: 8.2672 - root_mean_squared_error: 2.8752 - val_loss: 8.3781 - val_root_mean_squared_error: 2.8947\n",
            "Epoch 8/20\n",
            "1719/1719 [==============================] - 10s 6ms/step - loss: 8.2604 - root_mean_squared_error: 2.8741 - val_loss: 8.3675 - val_root_mean_squared_error: 2.8928\n",
            "Epoch 9/20\n",
            "1719/1719 [==============================] - 11s 6ms/step - loss: 8.2561 - root_mean_squared_error: 2.8733 - val_loss: 8.3670 - val_root_mean_squared_error: 2.8928\n",
            "Epoch 10/20\n",
            "1719/1719 [==============================] - 11s 6ms/step - loss: 8.2531 - root_mean_squared_error: 2.8729 - val_loss: 8.3765 - val_root_mean_squared_error: 2.8944\n",
            "Epoch 11/20\n",
            "1719/1719 [==============================] - 11s 6ms/step - loss: 8.2537 - root_mean_squared_error: 2.8729 - val_loss: 8.3692 - val_root_mean_squared_error: 2.8931\n",
            "Epoch 12/20\n",
            "1719/1719 [==============================] - 10s 6ms/step - loss: 8.2512 - root_mean_squared_error: 2.8725 - val_loss: 8.3983 - val_root_mean_squared_error: 2.8981\n",
            "Epoch 13/20\n",
            "1719/1719 [==============================] - 11s 6ms/step - loss: 8.2509 - root_mean_squared_error: 2.8725 - val_loss: 8.4105 - val_root_mean_squared_error: 2.9002\n",
            "Epoch 14/20\n",
            "1719/1719 [==============================] - 10s 6ms/step - loss: 8.2491 - root_mean_squared_error: 2.8722 - val_loss: 8.3659 - val_root_mean_squared_error: 2.8926\n",
            "Epoch 15/20\n",
            "1719/1719 [==============================] - 11s 6ms/step - loss: 8.2498 - root_mean_squared_error: 2.8722 - val_loss: 8.3664 - val_root_mean_squared_error: 2.8927\n",
            "Epoch 16/20\n",
            "1719/1719 [==============================] - 10s 6ms/step - loss: 8.2480 - root_mean_squared_error: 2.8719 - val_loss: 8.3667 - val_root_mean_squared_error: 2.8927\n",
            "Epoch 17/20\n",
            "1719/1719 [==============================] - 9s 6ms/step - loss: 8.2467 - root_mean_squared_error: 2.8717 - val_loss: 8.3895 - val_root_mean_squared_error: 2.8966\n",
            "Epoch 18/20\n",
            "1719/1719 [==============================] - 11s 6ms/step - loss: 8.2487 - root_mean_squared_error: 2.8720 - val_loss: 8.3659 - val_root_mean_squared_error: 2.8926\n",
            "Epoch 19/20\n",
            "1719/1719 [==============================] - 11s 6ms/step - loss: 8.2474 - root_mean_squared_error: 2.8719 - val_loss: 8.3685 - val_root_mean_squared_error: 2.8930\n",
            "Epoch 20/20\n",
            "1719/1719 [==============================] - 10s 6ms/step - loss: 8.2488 - root_mean_squared_error: 2.8721 - val_loss: 8.3658 - val_root_mean_squared_error: 2.8925\n"
          ]
        }
      ]
    },
    {
      "cell_type": "code",
      "source": [
        "mse_test, rmse_test = model.evaluate(X_test, y_test)\n",
        "X_new = X_test[:3]"
      ],
      "metadata": {
        "colab": {
          "base_uri": "https://localhost:8080/"
        },
        "id": "DTsv2n0XltwD",
        "outputId": "454f6fc0-7253-4a03-9072-a8890488cd17"
      },
      "execution_count": 21,
      "outputs": [
        {
          "output_type": "stream",
          "name": "stdout",
          "text": [
            "313/313 [==============================] - 1s 3ms/step - loss: 8.2482 - root_mean_squared_error: 2.8720\n"
          ]
        }
      ]
    }
  ]
}